{
 "cells": [
  {
   "cell_type": "code",
   "execution_count": 4,
   "metadata": {},
   "outputs": [
    {
     "ename": "ImportError",
     "evalue": "DLL load failed: 找不到指定的模块。",
     "output_type": "error",
     "traceback": [
      "\u001b[1;31m---------------------------------------------------------------------------\u001b[0m",
      "\u001b[1;31mImportError\u001b[0m                               Traceback (most recent call last)",
      "\u001b[1;32mC:\\Users\\coldwarrior\\AppData\\Local\\Temp\\ipykernel_6176\\3875403983.py\u001b[0m in \u001b[0;36m<module>\u001b[1;34m\u001b[0m\n\u001b[0;32m      1\u001b[0m \u001b[1;32mfrom\u001b[0m \u001b[0mflow_viz\u001b[0m \u001b[1;32mimport\u001b[0m \u001b[1;33m*\u001b[0m\u001b[1;33m\u001b[0m\u001b[1;33m\u001b[0m\u001b[0m\n\u001b[1;32m----> 2\u001b[1;33m \u001b[1;32mimport\u001b[0m \u001b[0mcv2\u001b[0m\u001b[1;33m\u001b[0m\u001b[1;33m\u001b[0m\u001b[0m\n\u001b[0m\u001b[0;32m      3\u001b[0m \u001b[1;32mimport\u001b[0m \u001b[0mnumpy\u001b[0m \u001b[1;32mas\u001b[0m \u001b[0mnp\u001b[0m\u001b[1;33m\u001b[0m\u001b[1;33m\u001b[0m\u001b[0m\n\u001b[0;32m      4\u001b[0m \u001b[1;32mfrom\u001b[0m \u001b[0mtqdm\u001b[0m \u001b[1;32mimport\u001b[0m \u001b[0mtqdm\u001b[0m\u001b[1;33m\u001b[0m\u001b[1;33m\u001b[0m\u001b[0m\n\u001b[0;32m      5\u001b[0m \u001b[1;32mfrom\u001b[0m \u001b[0mglob\u001b[0m \u001b[1;32mimport\u001b[0m \u001b[0mglob\u001b[0m\u001b[1;33m\u001b[0m\u001b[1;33m\u001b[0m\u001b[0m\n",
      "\u001b[1;31mImportError\u001b[0m: DLL load failed: 找不到指定的模块。"
     ]
    }
   ],
   "source": [
    "from flow_viz import *\n",
    "import cv2\n",
    "import numpy as np\n",
    "from tqdm import tqdm\n",
    "from glob import glob\n",
    "import os.path as osp\n",
    "import os"
   ]
  },
  {
   "cell_type": "code",
   "execution_count": null,
   "metadata": {},
   "outputs": [],
   "source": [
    "# 光流计算方法 'f':farneback, 't':tvl1\n",
    "method = 't'"
   ]
  },
  {
   "cell_type": "code",
   "execution_count": null,
   "metadata": {},
   "outputs": [],
   "source": [
    "# root\n",
    "root_path = 'D:/datasets/transfer1-1-20231231170000-20231231203000-100992192'\n",
    "suffix = 'png'\n",
    "# output\n",
    "output_path = 'D:/datasets/output'"
   ]
  },
  {
   "cell_type": "code",
   "execution_count": null,
   "metadata": {},
   "outputs": [],
   "source": [
    "if not osp.exists(output_path):\n",
    "    os.makedirs(output_path)"
   ]
  },
  {
   "cell_type": "code",
   "execution_count": null,
   "metadata": {},
   "outputs": [
    {
     "name": "stdout",
     "output_type": "stream",
     "text": [
      "True\n"
     ]
    }
   ],
   "source": [
    "print(osp.exists(root_path))"
   ]
  },
  {
   "cell_type": "code",
   "execution_count": null,
   "metadata": {},
   "outputs": [],
   "source": [
    "def compute_flow(img1, img2, method='f'):\n",
    "    if method == 'f':\n",
    "        # 参数设置\n",
    "        pyr_scale = 0.5\n",
    "        levels = 3\n",
    "        winsize = 15\n",
    "        iterations = 3\n",
    "        poly_n = 5\n",
    "        poly_sigma = 1.1\n",
    "        flags = 0\n",
    "\n",
    "        # 计算光流\n",
    "        flow = cv2.calcOpticalFlowFarneback(img1, img2, None, pyr_scale, levels, winsize, iterations, poly_n, poly_sigma, flags)\n",
    "\n",
    "    elif method == 't':\n",
    "        # 创建 Dual TV-L1 光流对象\n",
    "        tvl1 = cv2.optflow.DualTVL1OpticalFlow_create()\n",
    "        # 光流计算\n",
    "        flow = tvl1.calc(img1, img2, None)\n",
    "\n",
    "    elif method == 'l':\n",
    "\n",
    "        cuMat1 = cv2.cuda_GpuMat()\n",
    "        cuMat2 = cv2.cuda_GpuMat()\n",
    "        cuMat1.upload(img1)\n",
    "        cuMat2.upload(img2)\n",
    "\n",
    "        TVL1 = cv2.cuda_OpticalFlowDual_TVL1.create()\n",
    "        cuFlow = TVL1.calc(cuMat1, cuMat2, None)\n",
    "\n",
    "        flow = cuFlow.download()\t\t\n",
    "\n",
    "\n",
    "    else:\n",
    "        raise ValueError('method should be f or t')\n",
    "    \n",
    "    return flow"
   ]
  },
  {
   "cell_type": "code",
   "execution_count": null,
   "metadata": {},
   "outputs": [],
   "source": [
    "def write_flow(filename, uv, v=None):\n",
    "    \"\"\" Write optical flow to file.\n",
    "\n",
    "    If v is None, uv is assumed to contain both u and v channels,\n",
    "    stacked in depth.\n",
    "    Original code by Deqing Sun, adapted from Daniel Scharstein.\n",
    "    \"\"\"\n",
    "    TAG_CHAR = np.array([202021.25], np.float32)\n",
    "    nBands = 2\n",
    "\n",
    "    if v is None:\n",
    "        assert (uv.ndim == 3)\n",
    "        assert (uv.shape[2] == 2)\n",
    "        u = uv[:, :, 0]\n",
    "        v = uv[:, :, 1]\n",
    "    else:\n",
    "        u = uv\n",
    "\n",
    "    assert (u.shape == v.shape)\n",
    "    height, width = u.shape\n",
    "    f = open(filename, 'wb')\n",
    "    # write the header\n",
    "    f.write(TAG_CHAR)\n",
    "    np.array(width).astype(np.int32).tofile(f)\n",
    "    np.array(height).astype(np.int32).tofile(f)\n",
    "    # arrange into matrix form\n",
    "    tmp = np.zeros((height, width * nBands))\n",
    "    tmp[:, np.arange(width) * 2] = u\n",
    "    tmp[:, np.arange(width) * 2 + 1] = v\n",
    "    tmp.astype(np.float32).tofile(f)\n",
    "    f.close()\n"
   ]
  },
  {
   "cell_type": "code",
   "execution_count": null,
   "metadata": {},
   "outputs": [
    {
     "name": "stderr",
     "output_type": "stream",
     "text": [
      "  0%|          | 0/749 [00:00<?, ?it/s]  0%|          | 0/749 [00:00<?, ?it/s]\n"
     ]
    },
    {
     "ename": "error",
     "evalue": "OpenCV(4.10.0) D:\\a\\opencv-python\\opencv-python\\opencv\\modules\\core\\include\\opencv2/core/private.cuda.hpp:106: error: (-216:No CUDA support) The library is compiled without CUDA support in function 'throw_no_cuda'\n",
     "output_type": "error",
     "traceback": [
      "\u001b[1;31m---------------------------------------------------------------------------\u001b[0m",
      "\u001b[1;31merror\u001b[0m                                     Traceback (most recent call last)",
      "Cell \u001b[1;32mIn[144], line 12\u001b[0m\n\u001b[0;32m      9\u001b[0m img2 \u001b[38;5;241m=\u001b[39m cv2\u001b[38;5;241m.\u001b[39mimread(images[\u001b[38;5;241m2\u001b[39m \u001b[38;5;241m*\u001b[39m i \u001b[38;5;241m+\u001b[39m \u001b[38;5;241m1\u001b[39m], cv2\u001b[38;5;241m.\u001b[39mIMREAD_GRAYSCALE)\n\u001b[0;32m     11\u001b[0m \u001b[38;5;66;03m# 计算光流\u001b[39;00m\n\u001b[1;32m---> 12\u001b[0m flow \u001b[38;5;241m=\u001b[39m \u001b[43mcompute_flow\u001b[49m\u001b[43m(\u001b[49m\u001b[43mimg1\u001b[49m\u001b[43m,\u001b[49m\u001b[43m \u001b[49m\u001b[43mimg2\u001b[49m\u001b[43m,\u001b[49m\u001b[43m \u001b[49m\u001b[43mmethod\u001b[49m\u001b[43m)\u001b[49m\n\u001b[0;32m     14\u001b[0m \u001b[38;5;66;03m# 保存光流\u001b[39;00m\n\u001b[0;32m     15\u001b[0m write_flow(osp\u001b[38;5;241m.\u001b[39mjoin(output_path, \u001b[38;5;124mf\u001b[39m\u001b[38;5;124m'\u001b[39m\u001b[38;5;124mflow_\u001b[39m\u001b[38;5;132;01m{\u001b[39;00mi\u001b[38;5;132;01m:\u001b[39;00m\u001b[38;5;124m06d\u001b[39m\u001b[38;5;132;01m}\u001b[39;00m\u001b[38;5;124m.flo\u001b[39m\u001b[38;5;124m'\u001b[39m), flow)\n",
      "Cell \u001b[1;32mIn[142], line 25\u001b[0m, in \u001b[0;36mcompute_flow\u001b[1;34m(img1, img2, method)\u001b[0m\n\u001b[0;32m     23\u001b[0m cuMat1 \u001b[38;5;241m=\u001b[39m cv2\u001b[38;5;241m.\u001b[39mcuda_GpuMat()\n\u001b[0;32m     24\u001b[0m cuMat2 \u001b[38;5;241m=\u001b[39m cv2\u001b[38;5;241m.\u001b[39mcuda_GpuMat()\n\u001b[1;32m---> 25\u001b[0m \u001b[43mcuMat1\u001b[49m\u001b[38;5;241;43m.\u001b[39;49m\u001b[43mupload\u001b[49m\u001b[43m(\u001b[49m\u001b[43mimg1\u001b[49m\u001b[43m)\u001b[49m\n\u001b[0;32m     26\u001b[0m cuMat2\u001b[38;5;241m.\u001b[39mupload(img2)\n\u001b[0;32m     28\u001b[0m TVL1 \u001b[38;5;241m=\u001b[39m cv2\u001b[38;5;241m.\u001b[39mcuda_OpticalFlowDual_TVL1\u001b[38;5;241m.\u001b[39mcreate()\n",
      "\u001b[1;31merror\u001b[0m: OpenCV(4.10.0) D:\\a\\opencv-python\\opencv-python\\opencv\\modules\\core\\include\\opencv2/core/private.cuda.hpp:106: error: (-216:No CUDA support) The library is compiled without CUDA support in function 'throw_no_cuda'\n"
     ]
    }
   ],
   "source": [
    "images1 = sorted(glob(osp.join(root_path, f\"*.{suffix}\")))[1:]\n",
    "images2 = sorted(glob(osp.join(root_path, f\"*.{suffix}\")))[:-1]\n",
    "images = sorted(images1 + images2)\n",
    "\n",
    "\n",
    "image_list = []\n",
    "for i in tqdm(range(len(images)//2)):\n",
    "    img1 = cv2.imread(images[2 * i], cv2.IMREAD_GRAYSCALE)\n",
    "    img2 = cv2.imread(images[2 * i + 1], cv2.IMREAD_GRAYSCALE)\n",
    "\n",
    "    # 计算光流\n",
    "    flow = compute_flow(img1, img2, method)\n",
    "\n",
    "    # 保存光流\n",
    "    write_flow(osp.join(output_path, f'flow_{i:06d}.flo'), flow)\n",
    "\n",
    "    # 提取光流\n",
    "    image = flow_to_image(flow)\n",
    "    vi_flow = cv2.cvtColor(image, cv2.COLOR_RGB2BGR)  # OpenCV使用BGR格式，所以要转换一下\n",
    "    # 显示结果\n",
    "    cv2.imwrite(osp.join(output_path, f'flow_{i:06d}.png'),vi_flow)\n",
    "\n"
   ]
  }
 ],
 "metadata": {
  "kernelspec": {
   "display_name": "Python 3 (ipykernel)",
   "language": "python",
   "name": "python3"
  },
  "language_info": {
   "codemirror_mode": {
    "name": "ipython",
    "version": 3
   },
   "file_extension": ".py",
   "mimetype": "text/x-python",
   "name": "python",
   "nbconvert_exporter": "python",
   "pygments_lexer": "ipython3",
   "version": "3.8.10"
  }
 },
 "nbformat": 4,
 "nbformat_minor": 4
}
