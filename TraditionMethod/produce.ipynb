{
 "cells": [
  {
   "cell_type": "code",
   "execution_count": 1,
   "metadata": {},
   "outputs": [],
   "source": [
    "from flow_viz import *\n",
    "import cv2\n",
    "import numpy as np"
   ]
  },
  {
   "cell_type": "code",
   "execution_count": null,
   "metadata": {},
   "outputs": [],
   "source": [
    "# 光流计算方法 'f':farneback, 't':tvl1\n",
    "method = 'f'"
   ]
  },
  {
   "cell_type": "code",
   "execution_count": null,
   "metadata": {},
   "outputs": [],
   "source": [
    "# root\n",
    "root_path = '/home/chen/datasets/flow/flow_viz/'\n",
    "# output\n",
    "output_path = 'output/'"
   ]
  },
  {
   "cell_type": "code",
   "execution_count": null,
   "metadata": {},
   "outputs": [],
   "source": [
    "def compute_flow(img1, img2, method='f'):\n",
    "    if method == 'f':\n",
    "        # 参数设置\n",
    "        pyr_scale = 0.5\n",
    "        levels = 3\n",
    "        winsize = 15\n",
    "        iterations = 3\n",
    "        poly_n = 5\n",
    "        poly_sigma = 1.1\n",
    "        flags = 0\n",
    "\n",
    "        # 计算光流\n",
    "        flow = cv2.calcOpticalFlowFarneback(img1, img2, None, pyr_scale, levels, winsize, iterations, poly_n, poly_sigma, flags)\n",
    "\n",
    "    elif method == 't':\n",
    "        # 创建 Dual TV-L1 光流对象\n",
    "        tvl1 = cv2.optflow.DualTVL1OpticalFlow_create()\n",
    "        # 光流计算\n",
    "        flow = tvl1.calc(img1, img2, None)\n",
    "\n",
    "    else:\n",
    "        raise ValueError('method should be f or t')\n",
    "    \n",
    "    return flow"
   ]
  },
  {
   "cell_type": "code",
   "execution_count": null,
   "metadata": {},
   "outputs": [],
   "source": [
    "def write_flow(filename, uv, v=None):\n",
    "    \"\"\" Write optical flow to file.\n",
    "\n",
    "    If v is None, uv is assumed to contain both u and v channels,\n",
    "    stacked in depth.\n",
    "    Original code by Deqing Sun, adapted from Daniel Scharstein.\n",
    "    \"\"\"\n",
    "    TAG_CHAR = np.array([202021.25], np.float32)\n",
    "    nBands = 2\n",
    "\n",
    "    if v is None:\n",
    "        assert (uv.ndim == 3)\n",
    "        assert (uv.shape[2] == 2)\n",
    "        u = uv[:, :, 0]\n",
    "        v = uv[:, :, 1]\n",
    "    else:\n",
    "        u = uv\n",
    "\n",
    "    assert (u.shape == v.shape)\n",
    "    height, width = u.shape\n",
    "    f = open(filename, 'wb')\n",
    "    # write the header\n",
    "    f.write(TAG_CHAR)\n",
    "    np.array(width).astype(np.int32).tofile(f)\n",
    "    np.array(height).astype(np.int32).tofile(f)\n",
    "    # arrange into matrix form\n",
    "    tmp = np.zeros((height, width * nBands))\n",
    "    tmp[:, np.arange(width) * 2] = u\n",
    "    tmp[:, np.arange(width) * 2 + 1] = v\n",
    "    tmp.astype(np.float32).tofile(f)\n",
    "    f.close()\n"
   ]
  },
  {
   "cell_type": "code",
   "execution_count": 2,
   "metadata": {},
   "outputs": [
    {
     "ename": "error",
     "evalue": "OpenCV(4.10.0) D:\\a\\opencv-python\\opencv-python\\opencv\\modules\\imgproc\\src\\resize.cpp:4152: error: (-215:Assertion failed) !ssize.empty() in function 'cv::resize'\n",
     "output_type": "error",
     "traceback": [
      "\u001b[1;31m---------------------------------------------------------------------------\u001b[0m",
      "\u001b[1;31merror\u001b[0m                                     Traceback (most recent call last)",
      "Cell \u001b[1;32mIn[2], line 25\u001b[0m\n\u001b[0;32m     23\u001b[0m tvl1 \u001b[38;5;241m=\u001b[39m cv2\u001b[38;5;241m.\u001b[39moptflow\u001b[38;5;241m.\u001b[39mDualTVL1OpticalFlow_create()\n\u001b[0;32m     24\u001b[0m \u001b[38;5;66;03m# 光流计算\u001b[39;00m\n\u001b[1;32m---> 25\u001b[0m flow \u001b[38;5;241m=\u001b[39m \u001b[43mtvl1\u001b[49m\u001b[38;5;241;43m.\u001b[39;49m\u001b[43mcalc\u001b[49m\u001b[43m(\u001b[49m\u001b[43mprevImg\u001b[49m\u001b[43m,\u001b[49m\u001b[43m \u001b[49m\u001b[43mnextImg\u001b[49m\u001b[43m,\u001b[49m\u001b[43m \u001b[49m\u001b[38;5;28;43;01mNone\u001b[39;49;00m\u001b[43m)\u001b[49m\n\u001b[0;32m     27\u001b[0m \u001b[38;5;66;03m# 提取光流\u001b[39;00m\n\u001b[0;32m     28\u001b[0m image \u001b[38;5;241m=\u001b[39m flow_to_image(flow)\n",
      "\u001b[1;31merror\u001b[0m: OpenCV(4.10.0) D:\\a\\opencv-python\\opencv-python\\opencv\\modules\\imgproc\\src\\resize.cpp:4152: error: (-215:Assertion failed) !ssize.empty() in function 'cv::resize'\n"
     ]
    }
   ],
   "source": [
    "from glob import glob\n",
    "import os.path as osp\n",
    "\n",
    "\n",
    "images1 = sorted(glob(osp.join(root_path, \"*.png\")))[1:]\n",
    "images2 = sorted(glob(osp.join(root_path, \"*.png\")))[:-1]\n",
    "images = sorted(images1 + images2)\n",
    "\n",
    "image_list = []\n",
    "for i in range(len(images)//2):\n",
    "    img1 = cv2.imread(images[2 * i], cv2.IMREAD_GRAYSCALE)\n",
    "    img2 = cv2.imread(images[2 * i + 1], cv2.IMREAD_GRAYSCALE)\n",
    "\n",
    "    # 计算光流\n",
    "    flow = compute_flow(img1, img2, method)\n",
    "\n",
    "    # 保存光流\n",
    "    write_flow(osp.join(output_path, f'flow_{i:06d}.flo'), flow)\n",
    "\n",
    "    # 提取光流\n",
    "    image = flow_to_image(flow)\n",
    "    vi_flow = cv2.cvtColor(image, cv2.COLOR_RGB2BGR)  # OpenCV使用BGR格式，所以要转换一下\n",
    "    # 显示结果\n",
    "    cv2.imwrite(osp.join(output_path, f'flow_{i:06d}.png'),vi_flow)\n",
    "\n"
   ]
  }
 ],
 "metadata": {
  "kernelspec": {
   "display_name": "cvplus",
   "language": "python",
   "name": "python3"
  },
  "language_info": {
   "codemirror_mode": {
    "name": "ipython",
    "version": 3
   },
   "file_extension": ".py",
   "mimetype": "text/x-python",
   "name": "python",
   "nbconvert_exporter": "python",
   "pygments_lexer": "ipython3",
   "version": "3.8.19"
  }
 },
 "nbformat": 4,
 "nbformat_minor": 2
}
