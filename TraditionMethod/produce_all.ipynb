{
 "cells": [
  {
   "cell_type": "code",
   "metadata": {
    "ExecuteTime": {
     "end_time": "2024-06-17T05:40:56.227925Z",
     "start_time": "2024-06-17T05:40:56.214924Z"
    }
   },
   "source": [
    "from flow_viz import *\n",
    "import cv2\n",
    "import numpy as np\n",
    "from tqdm import tqdm\n",
    "from glob import glob\n",
    "import os.path as osp\n",
    "import os"
   ],
   "outputs": [],
   "execution_count": 11
  },
  {
   "cell_type": "code",
   "metadata": {
    "ExecuteTime": {
     "end_time": "2024-06-17T05:40:56.243943Z",
     "start_time": "2024-06-17T05:40:56.229922Z"
    }
   },
   "source": [
    "# 光流计算方法 'f':farneback, 't':tvl1\n",
    "method = 't'"
   ],
   "outputs": [],
   "execution_count": 12
  },
  {
   "metadata": {
    "ExecuteTime": {
     "end_time": "2024-06-17T05:40:56.259950Z",
     "start_time": "2024-06-17T05:40:56.244946Z"
    }
   },
   "cell_type": "code",
   "source": "suffix = 'png'",
   "outputs": [],
   "execution_count": 13
  },
  {
   "cell_type": "code",
   "metadata": {
    "ExecuteTime": {
     "end_time": "2024-06-17T05:40:56.276032Z",
     "start_time": "2024-06-17T05:40:56.260951Z"
    }
   },
   "source": [
    "def compute_flow(img1, img2, method='f'):\n",
    "    if method == 'f':\n",
    "        # 参数设置\n",
    "        pyr_scale = 0.5\n",
    "        levels = 3\n",
    "        winsize = 15\n",
    "        iterations = 3\n",
    "        poly_n = 5\n",
    "        poly_sigma = 1.1\n",
    "        flags = 0\n",
    "\n",
    "        # 计算光流\n",
    "        flow = cv2.calcOpticalFlowFarneback(img1, img2, None, pyr_scale, levels, winsize, iterations, poly_n, poly_sigma, flags)\n",
    "\n",
    "    elif method == 't':\n",
    "        # 创建 Dual TV-L1 光流对象\n",
    "        tvl1 = cv2.optflow.DualTVL1OpticalFlow_create()\n",
    "        # 光流计算\n",
    "        flow = tvl1.calc(img1, img2, None)\n",
    "\n",
    "    elif method == 'l':\n",
    "\n",
    "        cuMat1 = cv2.cuda_GpuMat()\n",
    "        cuMat2 = cv2.cuda_GpuMat()\n",
    "        cuMat1.upload(img1)\n",
    "        cuMat2.upload(img2)\n",
    "\n",
    "        TVL1 = cv2.cuda_OpticalFlowDual_TVL1.create()\n",
    "        cuFlow = TVL1.calc(cuMat1, cuMat2, None)\n",
    "\n",
    "        flow = cuFlow.download()\t\t\n",
    "\n",
    "\n",
    "    else:\n",
    "        raise ValueError('method should be f or t')\n",
    "    \n",
    "    return flow"
   ],
   "outputs": [],
   "execution_count": 14
  },
  {
   "cell_type": "code",
   "metadata": {
    "ExecuteTime": {
     "end_time": "2024-06-17T05:40:56.292030Z",
     "start_time": "2024-06-17T05:40:56.278032Z"
    }
   },
   "source": [
    "def write_flow(filename, uv, v=None):\n",
    "    \"\"\" Write optical flow to file.\n",
    "\n",
    "    If v is None, uv is assumed to contain both u and v channels,\n",
    "    stacked in depth.\n",
    "    Original code by Deqing Sun, adapted from Daniel Scharstein.\n",
    "    \"\"\"\n",
    "    TAG_CHAR = np.array([202021.25], np.float32)\n",
    "    nBands = 2\n",
    "\n",
    "    if v is None:\n",
    "        assert (uv.ndim == 3)\n",
    "        assert (uv.shape[2] == 2)\n",
    "        u = uv[:, :, 0]\n",
    "        v = uv[:, :, 1]\n",
    "    else:\n",
    "        u = uv\n",
    "\n",
    "    assert (u.shape == v.shape)\n",
    "    height, width = u.shape\n",
    "    f = open(filename, 'wb')\n",
    "    # write the header\n",
    "    f.write(TAG_CHAR)\n",
    "    np.array(width).astype(np.int32).tofile(f)\n",
    "    np.array(height).astype(np.int32).tofile(f)\n",
    "    # arrange into matrix form\n",
    "    tmp = np.zeros((height, width * nBands))\n",
    "    tmp[:, np.arange(width) * 2] = u\n",
    "    tmp[:, np.arange(width) * 2 + 1] = v\n",
    "    tmp.astype(np.float32).tofile(f)\n",
    "    f.close()\n"
   ],
   "outputs": [],
   "execution_count": 15
  },
  {
   "cell_type": "code",
   "metadata": {
    "ExecuteTime": {
     "end_time": "2024-06-17T05:40:56.308033Z",
     "start_time": "2024-06-17T05:40:56.294033Z"
    }
   },
   "source": [
    "def output_flow(root_path, output_path, method='t', suffix='png'):\n",
    "    if not osp.exists(output_path):\n",
    "        os.makedirs(output_path)\n",
    "        \n",
    "    print(osp.exists(root_path))\n",
    "    \n",
    "    images1 = sorted(glob(osp.join(root_path, f\"*.{suffix}\")))[1:]\n",
    "    images2 = sorted(glob(osp.join(root_path, f\"*.{suffix}\")))[:-1]\n",
    "    images = sorted(images1 + images2)\n",
    "    \n",
    "    for i in tqdm(range(len(images)//2), desc=f'{root_path}'):\n",
    "        img1 = cv2.imread(images[2 * i], cv2.IMREAD_GRAYSCALE)\n",
    "        img2 = cv2.imread(images[2 * i + 1], cv2.IMREAD_GRAYSCALE)\n",
    "    \n",
    "        # 计算光流\n",
    "        flow = compute_flow(img1, img2, method)\n",
    "    \n",
    "        # 保存光流\n",
    "        write_flow(osp.join(output_path, f'flow_{i + 1:04d}.flo'), flow)\n",
    "    \n",
    "        # 提取光流\n",
    "        image = flow_to_image(flow)\n",
    "        vi_flow = cv2.cvtColor(image, cv2.COLOR_RGB2BGR)  # OpenCV使用BGR格式，所以要转换一下\n",
    "        # 显示结果\n",
    "        cv2.imwrite(osp.join(output_path, f'flow_{i + 1:04d}.png'), vi_flow)"
   ],
   "outputs": [],
   "execution_count": 16
  },
  {
   "metadata": {
    "jupyter": {
     "is_executing": true
    },
    "ExecuteTime": {
     "start_time": "2024-06-17T05:40:56.309033Z"
    }
   },
   "cell_type": "code",
   "source": [
    "root_path = 'E:/data/Wuhan_Metro/'\n",
    "for root, dirs, files in os.walk(root_path):\n",
    "    for file in files:\n",
    "        if file.endswith('.ts'):\n",
    "            dir_path = os.path.join(root, file.split('.')[0])\n",
    "            out_path = os.path.join(dir_path, 'flow')\n",
    "            output_flow(dir_path, out_path, method='t', suffix='png')"
   ],
   "outputs": [
    {
     "name": "stdout",
     "output_type": "stream",
     "text": [
      "True\n"
     ]
    },
    {
     "name": "stderr",
     "output_type": "stream",
     "text": [
      "E:/data/Wuhan_Metro/transfer1-1-20231231170000-20231231203000-100992192:   0%|          | 0/399 [00:00<?, ?it/s]"
     ]
    }
   ],
   "execution_count": null
  }
 ],
 "metadata": {
  "kernelspec": {
   "display_name": "cvplus",
   "language": "python",
   "name": "python3"
  },
  "language_info": {
   "codemirror_mode": {
    "name": "ipython",
    "version": 3
   },
   "file_extension": ".py",
   "mimetype": "text/x-python",
   "name": "python",
   "nbconvert_exporter": "python",
   "pygments_lexer": "ipython3",
   "version": "3.7.12"
  }
 },
 "nbformat": 4,
 "nbformat_minor": 2
}
