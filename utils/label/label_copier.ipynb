{
 "cells": [
  {
   "cell_type": "code",
   "execution_count": 20,
   "metadata": {},
   "outputs": [],
   "source": [
    "import shutil"
   ]
  },
  {
   "cell_type": "code",
   "execution_count": 21,
   "metadata": {},
   "outputs": [],
   "source": [
    "cover_range = 5\n",
    "begin_state = (cover_range) // 2 + 1 "
   ]
  },
  {
   "cell_type": "code",
   "execution_count": 22,
   "metadata": {},
   "outputs": [],
   "source": [
    "json_root = \"E:/E盘/模式识别课设/jhroad_label\""
   ]
  },
  {
   "cell_type": "code",
   "execution_count": 23,
   "metadata": {},
   "outputs": [
    {
     "name": "stdout",
     "output_type": "stream",
     "text": [
      "基准点3复制\n",
      "基准点8复制\n",
      "基准点13复制\n",
      "基准点18复制\n",
      "基准点23复制\n",
      "基准点28复制\n",
      "基准点33复制\n",
      "基准点38复制\n",
      "基准点43复制\n",
      "基准点48复制\n",
      "基准点53复制\n",
      "基准点58复制\n",
      "基准点63复制\n",
      "基准点68复制\n",
      "基准点73复制\n",
      "基准点78复制\n",
      "基准点83复制\n",
      "基准点88复制\n",
      "基准点93复制\n",
      "基准点98复制\n"
     ]
    }
   ],
   "source": [
    "for i in range(begin_state, 100, cover_range):\n",
    "    print(f\"基准点{i}复制\")\n",
    "    for j in range(cover_range):\n",
    "        point = i - (cover_range // 2) + j\n",
    "        if not point == i:\n",
    "            shutil.copyfile(f\"{json_root}/frame_{i:04d}.npy\", f\"{json_root}/frame_{point:04d}.npy\")\n",
    "    "
   ]
  }
 ],
 "metadata": {
  "kernelspec": {
   "display_name": "labelme",
   "language": "python",
   "name": "python3"
  },
  "language_info": {
   "codemirror_mode": {
    "name": "ipython",
    "version": 3
   },
   "file_extension": ".py",
   "mimetype": "text/x-python",
   "name": "python",
   "nbconvert_exporter": "python",
   "pygments_lexer": "ipython3",
   "version": "3.8.19"
  }
 },
 "nbformat": 4,
 "nbformat_minor": 2
}
